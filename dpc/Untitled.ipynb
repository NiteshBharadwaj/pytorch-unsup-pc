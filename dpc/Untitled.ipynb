{
 "cells": [
  {
   "cell_type": "code",
   "execution_count": 9,
   "metadata": {},
   "outputs": [
    {
     "data": {
      "text/plain": [
       "torch.Size([2, 3])"
      ]
     },
     "execution_count": 9,
     "metadata": {},
     "output_type": "execute_result"
    }
   ],
   "source": [
    "import torch\n",
    "import numpy as np\n",
    "z = torch.from_numpy(np.array([[1,2,3],[4,5,6]]))\n",
    "z.shape"
   ]
  },
  {
   "cell_type": "code",
   "execution_count": 12,
   "metadata": {},
   "outputs": [
    {
     "data": {
      "text/plain": [
       "tensor([3, 6])"
      ]
     },
     "execution_count": 12,
     "metadata": {},
     "output_type": "execute_result"
    }
   ],
   "source": [
    "torch.max(z,1)[0]"
   ]
  },
  {
   "cell_type": "code",
   "execution_count": 5,
   "metadata": {},
   "outputs": [
    {
     "data": {
      "text/plain": [
       "torch.Size([2, 1, 3])"
      ]
     },
     "execution_count": 5,
     "metadata": {},
     "output_type": "execute_result"
    }
   ],
   "source": [
    "z.unsqueeze(dim = 1).shape"
   ]
  },
  {
   "cell_type": "code",
   "execution_count": null,
   "metadata": {},
   "outputs": [],
   "source": []
  },
  {
   "cell_type": "code",
   "execution_count": 8,
   "metadata": {},
   "outputs": [
    {
     "data": {
      "text/plain": [
       "tensor([0, 2])"
      ]
     },
     "execution_count": 8,
     "metadata": {},
     "output_type": "execute_result"
    }
   ],
   "source": [
    "tensor = torch.from_numpy(np.array([0, 1, 2, 3]))\n",
    "mask = torch.from_numpy(np.array([True, False, True, False]))\n",
    "tensor[mask]"
   ]
  },
  {
   "cell_type": "code",
   "execution_count": 33,
   "metadata": {},
   "outputs": [],
   "source": [
    "o = torch.from_numpy(np.ones(3))\n",
    "# z = np.zeros(3)\n",
    "# v = np.stack([o,z])\n",
    "# pc = torch.from_numpy(np.repeat(v, 53760, axis = 0).reshape((128,140,3)))"
   ]
  },
  {
   "cell_type": "code",
   "execution_count": 34,
   "metadata": {},
   "outputs": [
    {
     "data": {
      "text/plain": [
       "tensor([1., 1.], dtype=torch.float64)"
      ]
     },
     "execution_count": 34,
     "metadata": {},
     "output_type": "execute_result"
    }
   ],
   "source": [
    "a = torch.from_numpy(np.array([True, False, True]))\n",
    "o[a]"
   ]
  },
  {
   "cell_type": "code",
   "execution_count": 29,
   "metadata": {},
   "outputs": [
    {
     "data": {
      "text/plain": [
       "array([1., 1., 1.])"
      ]
     },
     "execution_count": 29,
     "metadata": {},
     "output_type": "execute_result"
    }
   ],
   "source": [
    "myarr[0,1,:]"
   ]
  },
  {
   "cell_type": "code",
   "execution_count": null,
   "metadata": {},
   "outputs": [],
   "source": [
    "pc = torch.from()"
   ]
  },
  {
   "cell_type": "code",
   "execution_count": null,
   "metadata": {},
   "outputs": [],
   "source": [
    "def pointcloud2voxels3d_fast(cfg, pc, rgb):  # [B,N,3]\n",
    "    vox_size = cfg.vox_size\n",
    "    if cfg.vox_size_z != -1:\n",
    "        vox_size_z = cfg.vox_size_z\n",
    "    else:\n",
    "        vox_size_z = vox_size\n",
    "\n",
    "    batch_size = pc.shape[0]\n",
    "    num_points = tf.shape(pc)[1]\n",
    "\n",
    "    has_rgb = rgb is not None\n",
    "\n",
    "    grid_size = 1.0\n",
    "    half_size = grid_size / 2\n",
    "\n",
    "    filter_outliers = True\n",
    "    valid = tf.logical_and(pc >= -half_size, pc <= half_size)\n",
    "    valid = tf.reduce_all(valid, axis=-1)\n",
    "\n",
    "    vox_size_tf = tf.constant([[[vox_size_z, vox_size, vox_size]]], dtype=tf.float32)\n",
    "    pc_grid = (pc + half_size) * (vox_size_tf - 1)\n",
    "    indices_floor = tf.floor(pc_grid)\n",
    "    indices_int = tf.cast(indices_floor, tf.int32)\n",
    "    batch_indices = tf.range(0, batch_size, 1)\n",
    "    batch_indices = tf.expand_dims(batch_indices, -1)\n",
    "    batch_indices = tf.tile(batch_indices, [1, num_points])\n",
    "    batch_indices = tf.expand_dims(batch_indices, -1)\n",
    "\n",
    "    indices = tf.concat([batch_indices, indices_int], axis=2)\n",
    "    indices = tf.reshape(indices, [-1, 4])\n",
    "\n",
    "    r = pc_grid - indices_floor  # fractional part\n",
    "    rr = [1.0 - r, r]\n",
    "\n",
    "    if filter_outliers:\n",
    "        valid = tf.reshape(valid, [-1])\n",
    "        indices = tf.boolean_mask(indices, valid)\n",
    "\n",
    "    def interpolate_scatter3d(pos):\n",
    "        updates_raw = rr[pos[0]][:, :, 0] * rr[pos[1]][:, :, 1] * rr[pos[2]][:, :, 2]\n",
    "        updates = tf.reshape(updates_raw, [-1])\n",
    "        if filter_outliers:\n",
    "            updates = tf.boolean_mask(updates, valid)\n",
    "\n",
    "        indices_loc = indices\n",
    "        indices_shift = tf.constant([[0] + pos])\n",
    "        num_updates = tf.shape(indices_loc)[0]\n",
    "        indices_shift = tf.tile(indices_shift, [num_updates, 1])\n",
    "        indices_loc = indices_loc + indices_shift\n",
    "\n",
    "        voxels = tf.scatter_nd(indices_loc, updates, [batch_size, vox_size_z, vox_size, vox_size])\n",
    "        if has_rgb:\n",
    "            if cfg.pc_rgb_stop_points_gradient:\n",
    "                updates_raw = tf.stop_gradient(updates_raw)\n",
    "            updates_rgb = tf.expand_dims(updates_raw, axis=-1) * rgb\n",
    "            updates_rgb = tf.reshape(updates_rgb, [-1, 3])\n",
    "            if filter_outliers:\n",
    "                updates_rgb = tf.boolean_mask(updates_rgb, valid)\n",
    "            voxels_rgb = tf.scatter_nd(indices_loc, updates_rgb, [batch_size, vox_size_z, vox_size, vox_size, 3])\n",
    "        else:\n",
    "            voxels_rgb = None\n",
    "\n",
    "        return voxels, voxels_rgb\n",
    "\n",
    "    voxels = []\n",
    "    voxels_rgb = []\n",
    "    for k in range(2):\n",
    "        for j in range(2):\n",
    "            for i in range(2):\n",
    "                vx, vx_rgb = interpolate_scatter3d([k, j, i])\n",
    "                voxels.append(vx)\n",
    "                voxels_rgb.append(vx_rgb)\n",
    "\n",
    "    voxels = tf.add_n(voxels)\n",
    "    voxels_rgb = tf.add_n(voxels_rgb) if has_rgb else None\n",
    "\n",
    "    return voxels, voxels_rgb\n"
   ]
  },
  {
   "cell_type": "code",
   "execution_count": null,
   "metadata": {},
   "outputs": [],
   "source": [
    "def pointcloud2voxels3d_fast(cfg, pc, rgb):  # [B,N,3]\n",
    "    vox_size = cfg.vox_size\n",
    "    if cfg.vox_size_z != -1:\n",
    "        vox_size_z = cfg.vox_size_z\n",
    "    else:\n",
    "        vox_size_z = vox_size\n",
    "\n",
    "    batch_size = pc.shape[0]\n",
    "    num_points = pc.shape[1]\n",
    "\n",
    "    has_rgb = rgb is not None\n",
    "\n",
    "    grid_size = 1.0\n",
    "    half_size = grid_size / 2\n",
    "\n",
    "    filter_outliers = True\n",
    "    valid = (pc >= -half_size) * (pc <= half_size)\n",
    "    valid = torch.prod(valid, dim=-1)\n",
    "    device = 'cuda' if torch.cuda.is_available() else 'cpu'\n",
    "    vox_size_tf = torch.from_numpy(np.array([[[vox_size_z, vox_size, vox_size]]])).to(device)\n",
    "    pc_grid = (pc + half_size) * (vox_size_tf - 1)\n",
    "    indices_floor = torch.floor(pc_grid)\n",
    "    indices_int = indices_floor.long()\n",
    "    batch_indices = torch.arange(0, batch_size, 1)\n",
    "    batch_indices = batch_indices.reshape(batch_indices.shape[0],1)\n",
    "    batch_indices = batch_indices.repeat(1,num_points)\n",
    "    batch_indices = batch_indices.reshape(batch_indices.shape[0], batch_indices.shape[1],1).to(device)\n",
    "    indices = torch.cat((batch_indices, indices_int), dim=2)\n",
    "    indices = indices.reshape(-1,4)\n",
    "    r = pc_grid - indices_floor  # fractional part\n",
    "    rr = [1.0 - r, r]\n",
    "\n",
    "    if filter_outliers:\n",
    "        valid = valid.reshape(-1)\n",
    "        indices = indices[valid]\n",
    "\n",
    "    def interpolate_scatter3d(pos,voxels):\n",
    "        updates_raw = rr[pos[0]][:, :, 0] * rr[pos[1]][:, :, 1] * rr[pos[2]][:, :, 2]\n",
    "        updates = updates_raw.reshape(-1)\n",
    "\n",
    "        if filter_outliers:\n",
    "            updates = updates[valid]\n",
    "\n",
    "        device = 'cuda' if torch.cuda.is_available() else 'cpu'\n",
    "        indices_loc = indices\n",
    "        indices_shift = torch.from_numpy(np.array([[0] + pos])).to(device)\n",
    "        num_updates = indices_loc.shape[0]\n",
    "        indices_shift = indices_shift.repeat(num_updates,1)\n",
    "        indices_loc = indices_loc + indices_shift\n",
    "        voxels[indices_loc[:,0],indices_loc[:,1],indices_loc[:,2],indices_loc[:,3]] += updates\n",
    "        if has_rgb:\n",
    "            if cfg.pc_rgb_stop_points_gradient:\n",
    "                updates_raw = updates_raw.detach()\n",
    "            updates_rgb = updates_raw. tf.expand_dims(updates_raw, axis=-1) * rgb\n",
    "            updates_rgb = updates_rgb.reshape(-1,3)\n",
    "            if filter_outliers:\n",
    "                updates_rgb = updates_rgb[valid]\n",
    "            voxels_rgb = torch.zeros((batch_size, vox_size_z, vox_size, vox_size), dtype=torch.float64)\n",
    "            voxels_rgb[indices_loc[:,0],indices_loc[:,1],indices_loc[:,2],indices_loc[:,3]] = updates_rgb\n",
    "        else:\n",
    "            voxels_rgb = None\n",
    "\n",
    "        return voxels, voxels_rgb\n",
    "    import time\n",
    "    t0 = time.perf_counter()\n",
    "    device = 'cuda' if torch.cuda.is_available() else 'cpu'\n",
    "    voxels = torch.zeros((batch_size, vox_size_z, vox_size, vox_size),dtype=torch.float64).to(device)\n",
    "    voxels_rgb = []\n",
    "    for k in range(2):\n",
    "        for j in range(2):\n",
    "            for i in range(2):\n",
    "                vx, vx_rgb = interpolate_scatter3d([k, j, i],voxels)\n",
    "                voxels_rgb.append(vx_rgb)\n",
    "    t1 =time.perf_counter()\n",
    "    #print('Voxel_time {}'.format(t1-t0))\n",
    "    voxels_rgb = torch.sum(torch.stack(voxels_rgb),0) if has_rgb else None\n",
    "\n",
    "    return voxels, voxels_rgb"
   ]
  }
 ],
 "metadata": {
  "kernelspec": {
   "display_name": "Python 3",
   "language": "python",
   "name": "python3"
  },
  "language_info": {
   "codemirror_mode": {
    "name": "ipython",
    "version": 3
   },
   "file_extension": ".py",
   "mimetype": "text/x-python",
   "name": "python",
   "nbconvert_exporter": "python",
   "pygments_lexer": "ipython3",
   "version": "3.6.8"
  }
 },
 "nbformat": 4,
 "nbformat_minor": 2
}
