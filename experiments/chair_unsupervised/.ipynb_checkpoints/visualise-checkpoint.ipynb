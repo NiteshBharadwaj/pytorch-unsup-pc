{
 "cells": [
  {
   "cell_type": "code",
   "execution_count": 1,
   "metadata": {
    "collapsed": true
   },
   "outputs": [
    {
     "name": "stdout",
     "output_type": "stream",
     "text": [
      "config.yaml\n",
      "align_to_canonical = False\n",
      "batch_size = 8\n",
      "bicubic_gt_downsampling = False\n",
      "camera_distance = 2.0\n",
      "checkpoint_dir = .\n",
      "clip_gradient_norm = 0.0\n",
      "compute_validation_loss = True\n",
      "config = \n",
      "decoder_conv_init_stdev = 0.02\n",
      "decoder_name = pc_decoder\n",
      "drc_logsum = True\n",
      "drc_logsum_clip_val = 1e-05\n",
      "drc_rgb_weight = 0.0\n",
      "drc_tf_cumulative = True\n",
      "drc_weight = 0.0\n",
      "encoder_name = img_encoder\n",
      "eval_split = val\n",
      "eval_unsupervised_shape = True\n",
      "f_dim = 16\n",
      "fc_dim = 1024\n",
      "focal_length = 1.875\n",
      "focal_length_mean = 2.0\n",
      "focal_length_range = 1.0\n",
      "focal_range = 0.7\n",
      "gpu = 0\n",
      "gpu_allow_growth = False\n",
      "gt_pc_dir = ../../data/gt/downsampled\n",
      "image_size = 128\n",
      "inp_dir = ../../data/tf_records\n",
      "input_shape = [128, 128, 3]\n",
      "learn_focal_length = False\n",
      "learning_rate = 0.0001\n",
      "learning_rate_2 = 1e-05\n",
      "learning_rate_step = 1.0\n",
      "max_dataset_depth = 10.0\n",
      "max_depth = 10.0\n",
      "max_number_of_steps = 600000\n",
      "models_list = \n",
      "num_dataset_samples = -1\n",
      "num_views = 5\n",
      "num_views_to_use = -1\n",
      "pc_decoder_init_stddev = 0.025\n",
      "pc_eval_chamfer_num_parts = 10\n",
      "pc_fast = True\n",
      "pc_gauss_filter_gt = False\n",
      "pc_gauss_filter_gt_rgb = False\n",
      "pc_gauss_filter_gt_switch_off = False\n",
      "pc_gauss_kernel_size = 21\n",
      "pc_learn_occupancy_scaling = True\n",
      "pc_normalise_gauss = False\n",
      "pc_normalise_gauss_analytical = True\n",
      "pc_num_points = 8000\n",
      "pc_occupancy_scaling_maximum = 1.0\n",
      "pc_point_dropout = 0.07\n",
      "pc_point_dropout_end_step = 1.0\n",
      "pc_point_dropout_exponential_schedule = False\n",
      "pc_point_dropout_scheduled = True\n",
      "pc_point_dropout_start_step = 0.0\n",
      "pc_relative_sigma = 3.0\n",
      "pc_relative_sigma_end = 0.2\n",
      "pc_rgb = False\n",
      "pc_rgb_clip_after_conv = False\n",
      "pc_rgb_deep_decoder = False\n",
      "pc_rgb_divide_by_occupancies = False\n",
      "pc_rgb_divide_by_occupancies_epsilon = 0.01\n",
      "pc_rgb_stop_points_gradient = False\n",
      "pc_separable_gauss_filter = True\n",
      "pc_unit_cube = True\n",
      "per_process_gpu_memory_fraction = 1.0\n",
      "pose_accuracy_threshold = 30.0\n",
      "pose_candidates_num_layers = 3\n",
      "pose_predict_num_candidates = 4\n",
      "pose_predictor_student = True\n",
      "pose_predictor_student_loss_weight = 20.0\n",
      "pose_quaternion = True\n",
      "pose_student_align_loss = False\n",
      "posenet_name = pose_net\n",
      "predict_pose = True\n",
      "predict_translation = False\n",
      "predict_translation_init_stddev = 0.05\n",
      "predict_translation_scaling_factor = 0.15\n",
      "predict_translation_tanh = True\n",
      "proj_depth_weight = 0.0\n",
      "proj_rgb_weight = 0.0\n",
      "proj_weight = 1.0\n",
      "ptn_max_projection = False\n",
      "render_colored_subsets = False\n",
      "render_cycles_samples = 500\n",
      "render_image_size = 256\n",
      "save_as_mat = True\n",
      "save_individual_images = False\n",
      "save_intermediate_pcs = False\n",
      "save_intermediate_pcs_interval = 5000\n",
      "save_point_clouds = True\n",
      "save_predictions = True\n",
      "save_predictions_dir = pred\n",
      "save_rotated_points = False\n",
      "save_val_projection = False\n",
      "save_val_projection_dir = \n",
      "save_voxels = False\n",
      "saved_camera = True\n",
      "saved_depth = False\n",
      "shuffle_batch = False\n",
      "shuffle_dataset = False\n",
      "step_size = 4\n",
      "synth_set = 03001627\n",
      "tfrecords_gzip_compressed = True\n",
      "validation_interval = 1000\n",
      "variable_num_views = False\n",
      "vis_all_views = False\n",
      "vis_azimuth = 140.0\n",
      "vis_depth_projs = False\n",
      "vis_dist = 2.0\n",
      "vis_elevation = 15.0\n",
      "vis_size = 128\n",
      "vis_threshold = 0.5\n",
      "vis_voxels = False\n",
      "vox_marching_cubes_dense = False\n",
      "vox_marching_cubes_isosurface = 0.1\n",
      "vox_size = 64\n",
      "vox_size_z = -1\n",
      "vox_threshold = 0.5\n",
      "voxel_grid_size = 2.0\n",
      "weight_decay = 0.001\n",
      "z_dim = 1024\n"
     ]
    },
    {
     "name": "stderr",
     "output_type": "stream",
     "text": [
      "/home/wallace/Project/cse291f/coolnamehere/experiments/chair_unsupervised/../../dpc/util/config.py:46: YAMLLoadWarning: calling yaml.load() without Loader=... is deprecated, as the default Loader is unsafe. Please read https://msg.pyyaml.org/load for full details.\n",
      "  yaml_cfg = edict(yaml.load(f))\n"
     ]
    }
   ],
   "source": [
    "import os\n",
    "import sys\n",
    "\n",
    "script_dir = os.getcwd()\n",
    "root_dir = f\"{script_dir}/../../\"\n",
    "sys.path.append(os.path.join(root_dir, \"dpc\"))\n",
    "\n",
    "import numpy as np\n",
    "import scipy.io\n",
    "import imageio\n",
    "\n",
    "import matplotlib.pyplot as plt\n",
    "%matplotlib inline\n",
    "\n",
    "\n",
    "\n",
    "import open3d\n",
    "from open3d import JVisualizer\n",
    "\n",
    "\n",
    "from util.system import setup_environment\n",
    "from util.euler import quaternion2euler\n",
    "from util.image import preprocess_input_image\n",
    "from render.render_point_cloud import render_point_cloud\n",
    "\n",
    "#!/usr/bin/env python\n",
    "\n",
    "\n",
    "import pdb\n",
    "import time\n",
    "import torch\n",
    "\n",
    "from models import model_pc_to as model_pc\n",
    "from run.ShapeRecords import ShapeRecords\n",
    "from util.app_config import config as app_config\n",
    "from util.system import setup_environment\n",
    "from util.fs import mkdir_if_missing"
   ]
  },
  {
   "cell_type": "code",
   "execution_count": 2,
   "metadata": {
    "scrolled": true
   },
   "outputs": [
    {
     "name": "stdout",
     "output_type": "stream",
     "text": [
      "Loading from path: ../../dpc/run/model_run_data/model.ckpt_32000.pth\n",
      "Voxel_time 0.8409449110004061\n"
     ]
    }
   ],
   "source": [
    "cfg = app_config\n",
    "\n",
    "setup_environment(cfg)\n",
    "device = 'cuda' if torch.cuda.is_available() else 'cpu'\n",
    "train_dir = cfg.checkpoint_dir\n",
    "mkdir_if_missing(train_dir)\n",
    "\n",
    "split_name = \"train\"\n",
    "dataset_folder = cfg.inp_dir\n",
    "\n",
    "dataset = ShapeRecords(dataset_folder, cfg)\n",
    "dataset_loader = torch.utils.data.DataLoader(dataset,\n",
    "                                             batch_size=8, shuffle=False,\n",
    "                                             num_workers=8,drop_last=True)\n",
    "\n",
    "log_dir = '../../dpc/run/model_run_data/'\n",
    "model = model_pc.ModelPointCloud(cfg)\n",
    "global_step = 32000\n",
    "if global_step>0:            \n",
    "    checkpoint_path = os.path.join(log_dir,'model.ckpt_{}.pth'.format(global_step))\n",
    "    print(\"Loading from path:\",checkpoint_path)\n",
    "    checkpoint = torch.load(checkpoint_path, map_location=torch.device('cpu'))\n",
    "    global_step_val = checkpoint['global_step']\n",
    "    model.load_state_dict(checkpoint['model_state_dict'])\n",
    "else:\n",
    "    global_step_val = global_step\n",
    "\n",
    "model = model.to(device)\n",
    "for i, train_data in enumerate(dataset_loader, 0):\n",
    "    inputs = model.preprocess(train_data, cfg.step_size)\n",
    "    outputs = model(inputs, global_step_val, is_training=False, run_projection=True)\n",
    "    break"
   ]
  },
  {
   "cell_type": "code",
   "execution_count": 3,
   "metadata": {},
   "outputs": [
    {
     "data": {
      "text/plain": [
       "<matplotlib.image.AxesImage at 0x7f8f825de470>"
      ]
     },
     "execution_count": 3,
     "metadata": {},
     "output_type": "execute_result"
    },
    {
     "data": {
      "image/png": "[encoded data removed]",
      "text/plain": [
       "<Figure size 432x288 with 1 Axes>"
      ]
     },
     "metadata": {
      "needs_background": "light"
     },
     "output_type": "display_data"
    }
   ],
   "source": [
    "# select an input image from the validation set (splits defined in data/splits)\n",
    "# the dataset has 5 different viewpoints for the same model\n",
    "view_idx = 2\n",
    "\n",
    "input_image_np = inputs['images'].detach().cpu().numpy()[view_idx].transpose(1,2,0)\n",
    "\n",
    "# show input image\n",
    "plt.imshow(input_image_np)"
   ]
  },
  {
   "cell_type": "code",
   "execution_count": 4,
   "metadata": {},
   "outputs": [],
   "source": [
    "\n",
    "camera_pose_np = outputs['poses'].detach().cpu().numpy()[view_idx]"
   ]
  },
  {
   "cell_type": "code",
   "execution_count": 5,
   "metadata": {},
   "outputs": [
    {
     "data": {
      "application/vnd.jupyter.widget-view+json": {
       "model_id": "dc19612a06e04522839d080f22a491ce",
       "version_major": 2,
       "version_minor": 0
      },
      "text/plain": [
       "JVisualizer with 1 geometries"
      ]
     },
     "metadata": {},
     "output_type": "display_data"
    }
   ],
   "source": [
    "points_np = outputs['points_1'].detach().cpu().numpy()[3]\n",
    "# Interactive visualisation with Open3D\n",
    "pcd = open3d.geometry.PointCloud()\n",
    "pcd.points = open3d.utility.Vector3dVector(np.squeeze(points_np))\n",
    "\n",
    "visualizer = open3d.JVisualizer()\n",
    "visualizer.add_geometry(pcd)\n",
    "visualizer.show()"
   ]
  },
  {
   "cell_type": "code",
   "execution_count": 6,
   "metadata": {
    "collapsed": true
   },
   "outputs": [
    {
     "ename": "FileNotFoundError",
     "evalue": "No such file: '/tmp/vitedtk_.png'",
     "output_type": "error",
     "traceback": [
      "\u001b[0;31m---------------------------------------------------------------------------\u001b[0m",
      "\u001b[0;31mFileNotFoundError\u001b[0m                         Traceback (most recent call last)",
      "\u001b[0;32m<ipython-input-6-7da017c4ca63>\u001b[0m in \u001b[0;36m<module>\u001b[0;34m\u001b[0m\n\u001b[1;32m     16\u001b[0m }\n\u001b[1;32m     17\u001b[0m \u001b[0;34m\u001b[0m\u001b[0m\n\u001b[0;32m---> 18\u001b[0;31m \u001b[0mimage\u001b[0m \u001b[0;34m=\u001b[0m \u001b[0mrender_point_cloud\u001b[0m\u001b[0;34m(\u001b[0m\u001b[0mpoints_np\u001b[0m\u001b[0;34m,\u001b[0m \u001b[0mrender_cfg\u001b[0m\u001b[0;34m)\u001b[0m\u001b[0;34m\u001b[0m\u001b[0;34m\u001b[0m\u001b[0m\n\u001b[0m\u001b[1;32m     19\u001b[0m \u001b[0mf\u001b[0m\u001b[0;34m,\u001b[0m \u001b[0maxarr\u001b[0m \u001b[0;34m=\u001b[0m \u001b[0mplt\u001b[0m\u001b[0;34m.\u001b[0m\u001b[0msubplots\u001b[0m\u001b[0;34m(\u001b[0m\u001b[0;36m1\u001b[0m\u001b[0;34m,\u001b[0m \u001b[0;36m2\u001b[0m\u001b[0;34m,\u001b[0m \u001b[0mfigsize\u001b[0m\u001b[0;34m=\u001b[0m\u001b[0;34m(\u001b[0m\u001b[0;36m12\u001b[0m\u001b[0;34m,\u001b[0m \u001b[0;36m12\u001b[0m\u001b[0;34m)\u001b[0m\u001b[0;34m)\u001b[0m\u001b[0;34m\u001b[0m\u001b[0;34m\u001b[0m\u001b[0m\n\u001b[1;32m     20\u001b[0m \u001b[0mf\u001b[0m\u001b[0;34m.\u001b[0m\u001b[0mset_figheight\u001b[0m\u001b[0;34m(\u001b[0m\u001b[0;36m512\u001b[0m\u001b[0;34m)\u001b[0m\u001b[0;34m\u001b[0m\u001b[0;34m\u001b[0m\u001b[0m\n",
      "\u001b[0;32m~/Project/cse291f/coolnamehere/experiments/chair_unsupervised/../../dpc/render/render_point_cloud.py\u001b[0m in \u001b[0;36mrender_point_cloud\u001b[0;34m(point_cloud, cfg)\u001b[0m\n\u001b[1;32m     47\u001b[0m     \u001b[0msubprocess\u001b[0m\u001b[0;34m.\u001b[0m\u001b[0mcheck_call\u001b[0m\u001b[0;34m(\u001b[0m\u001b[0mfull_args\u001b[0m\u001b[0;34m,\u001b[0m \u001b[0mstdout\u001b[0m\u001b[0;34m=\u001b[0m\u001b[0msubprocess\u001b[0m\u001b[0;34m.\u001b[0m\u001b[0mDEVNULL\u001b[0m\u001b[0;34m,\u001b[0m \u001b[0mstderr\u001b[0m\u001b[0;34m=\u001b[0m\u001b[0msubprocess\u001b[0m\u001b[0;34m.\u001b[0m\u001b[0mSTDOUT\u001b[0m\u001b[0;34m)\u001b[0m\u001b[0;34m\u001b[0m\u001b[0;34m\u001b[0m\u001b[0m\n\u001b[1;32m     48\u001b[0m \u001b[0;34m\u001b[0m\u001b[0m\n\u001b[0;32m---> 49\u001b[0;31m     \u001b[0mimage\u001b[0m \u001b[0;34m=\u001b[0m \u001b[0mimageio\u001b[0m\u001b[0;34m.\u001b[0m\u001b[0mimread\u001b[0m\u001b[0;34m(\u001b[0m\u001b[0mout_file\u001b[0m\u001b[0;34m)\u001b[0m\u001b[0;34m\u001b[0m\u001b[0;34m\u001b[0m\u001b[0m\n\u001b[0m\u001b[1;32m     50\u001b[0m     \u001b[0mos\u001b[0m\u001b[0;34m.\u001b[0m\u001b[0mremove\u001b[0m\u001b[0;34m(\u001b[0m\u001b[0min_file\u001b[0m\u001b[0;34m)\u001b[0m\u001b[0;34m\u001b[0m\u001b[0;34m\u001b[0m\u001b[0m\n\u001b[1;32m     51\u001b[0m     \u001b[0mos\u001b[0m\u001b[0;34m.\u001b[0m\u001b[0mremove\u001b[0m\u001b[0;34m(\u001b[0m\u001b[0mout_file\u001b[0m\u001b[0;34m)\u001b[0m\u001b[0;34m\u001b[0m\u001b[0;34m\u001b[0m\u001b[0m\n",
      "\u001b[0;32m~/anaconda3/lib/python3.7/site-packages/imageio/core/functions.py\u001b[0m in \u001b[0;36mimread\u001b[0;34m(uri, format, **kwargs)\u001b[0m\n\u001b[1;32m    262\u001b[0m \u001b[0;34m\u001b[0m\u001b[0m\n\u001b[1;32m    263\u001b[0m     \u001b[0;31m# Get reader and read first\u001b[0m\u001b[0;34m\u001b[0m\u001b[0;34m\u001b[0m\u001b[0;34m\u001b[0m\u001b[0m\n\u001b[0;32m--> 264\u001b[0;31m     \u001b[0mreader\u001b[0m \u001b[0;34m=\u001b[0m \u001b[0mread\u001b[0m\u001b[0;34m(\u001b[0m\u001b[0muri\u001b[0m\u001b[0;34m,\u001b[0m \u001b[0mformat\u001b[0m\u001b[0;34m,\u001b[0m \u001b[0;34m\"i\"\u001b[0m\u001b[0;34m,\u001b[0m \u001b[0;34m**\u001b[0m\u001b[0mkwargs\u001b[0m\u001b[0;34m)\u001b[0m\u001b[0;34m\u001b[0m\u001b[0;34m\u001b[0m\u001b[0m\n\u001b[0m\u001b[1;32m    265\u001b[0m     \u001b[0;32mwith\u001b[0m \u001b[0mreader\u001b[0m\u001b[0;34m:\u001b[0m\u001b[0;34m\u001b[0m\u001b[0;34m\u001b[0m\u001b[0m\n\u001b[1;32m    266\u001b[0m         \u001b[0;32mreturn\u001b[0m \u001b[0mreader\u001b[0m\u001b[0;34m.\u001b[0m\u001b[0mget_data\u001b[0m\u001b[0;34m(\u001b[0m\u001b[0;36m0\u001b[0m\u001b[0;34m)\u001b[0m\u001b[0;34m\u001b[0m\u001b[0;34m\u001b[0m\u001b[0m\n",
      "\u001b[0;32m~/anaconda3/lib/python3.7/site-packages/imageio/core/functions.py\u001b[0m in \u001b[0;36mget_reader\u001b[0;34m(uri, format, mode, **kwargs)\u001b[0m\n\u001b[1;32m    171\u001b[0m \u001b[0;34m\u001b[0m\u001b[0m\n\u001b[1;32m    172\u001b[0m     \u001b[0;31m# Create request object\u001b[0m\u001b[0;34m\u001b[0m\u001b[0;34m\u001b[0m\u001b[0;34m\u001b[0m\u001b[0m\n\u001b[0;32m--> 173\u001b[0;31m     \u001b[0mrequest\u001b[0m \u001b[0;34m=\u001b[0m \u001b[0mRequest\u001b[0m\u001b[0;34m(\u001b[0m\u001b[0muri\u001b[0m\u001b[0;34m,\u001b[0m \u001b[0;34m\"r\"\u001b[0m \u001b[0;34m+\u001b[0m \u001b[0mmode\u001b[0m\u001b[0;34m,\u001b[0m \u001b[0;34m**\u001b[0m\u001b[0mkwargs\u001b[0m\u001b[0;34m)\u001b[0m\u001b[0;34m\u001b[0m\u001b[0;34m\u001b[0m\u001b[0m\n\u001b[0m\u001b[1;32m    174\u001b[0m \u001b[0;34m\u001b[0m\u001b[0m\n\u001b[1;32m    175\u001b[0m     \u001b[0;31m# Get format\u001b[0m\u001b[0;34m\u001b[0m\u001b[0;34m\u001b[0m\u001b[0;34m\u001b[0m\u001b[0m\n",
      "\u001b[0;32m~/anaconda3/lib/python3.7/site-packages/imageio/core/request.py\u001b[0m in \u001b[0;36m__init__\u001b[0;34m(self, uri, mode, **kwargs)\u001b[0m\n\u001b[1;32m    124\u001b[0m \u001b[0;34m\u001b[0m\u001b[0m\n\u001b[1;32m    125\u001b[0m         \u001b[0;31m# Parse what was given\u001b[0m\u001b[0;34m\u001b[0m\u001b[0;34m\u001b[0m\u001b[0;34m\u001b[0m\u001b[0m\n\u001b[0;32m--> 126\u001b[0;31m         \u001b[0mself\u001b[0m\u001b[0;34m.\u001b[0m\u001b[0m_parse_uri\u001b[0m\u001b[0;34m(\u001b[0m\u001b[0muri\u001b[0m\u001b[0;34m)\u001b[0m\u001b[0;34m\u001b[0m\u001b[0;34m\u001b[0m\u001b[0m\n\u001b[0m\u001b[1;32m    127\u001b[0m \u001b[0;34m\u001b[0m\u001b[0m\n\u001b[1;32m    128\u001b[0m         \u001b[0;31m# Set extension\u001b[0m\u001b[0;34m\u001b[0m\u001b[0;34m\u001b[0m\u001b[0;34m\u001b[0m\u001b[0m\n",
      "\u001b[0;32m~/anaconda3/lib/python3.7/site-packages/imageio/core/request.py\u001b[0m in \u001b[0;36m_parse_uri\u001b[0;34m(self, uri)\u001b[0m\n\u001b[1;32m    276\u001b[0m                 \u001b[0;31m# Reading: check that the file exists (but is allowed a dir)\u001b[0m\u001b[0;34m\u001b[0m\u001b[0;34m\u001b[0m\u001b[0;34m\u001b[0m\u001b[0m\n\u001b[1;32m    277\u001b[0m                 \u001b[0;32mif\u001b[0m \u001b[0;32mnot\u001b[0m \u001b[0mos\u001b[0m\u001b[0;34m.\u001b[0m\u001b[0mpath\u001b[0m\u001b[0;34m.\u001b[0m\u001b[0mexists\u001b[0m\u001b[0;34m(\u001b[0m\u001b[0mfn\u001b[0m\u001b[0;34m)\u001b[0m\u001b[0;34m:\u001b[0m\u001b[0;34m\u001b[0m\u001b[0;34m\u001b[0m\u001b[0m\n\u001b[0;32m--> 278\u001b[0;31m                     \u001b[0;32mraise\u001b[0m \u001b[0mFileNotFoundError\u001b[0m\u001b[0;34m(\u001b[0m\u001b[0;34m\"No such file: '%s'\"\u001b[0m \u001b[0;34m%\u001b[0m \u001b[0mfn\u001b[0m\u001b[0;34m)\u001b[0m\u001b[0;34m\u001b[0m\u001b[0;34m\u001b[0m\u001b[0m\n\u001b[0m\u001b[1;32m    279\u001b[0m             \u001b[0;32melse\u001b[0m\u001b[0;34m:\u001b[0m\u001b[0;34m\u001b[0m\u001b[0;34m\u001b[0m\u001b[0m\n\u001b[1;32m    280\u001b[0m                 \u001b[0;31m# Writing: check that the directory to write to does exist\u001b[0m\u001b[0;34m\u001b[0m\u001b[0;34m\u001b[0m\u001b[0;34m\u001b[0m\u001b[0m\n",
      "\u001b[0;31mFileNotFoundError\u001b[0m: No such file: '/tmp/vitedtk_.png'"
     ]
    }
   ],
   "source": [
    "# render the point cloud with the predicted camera pose\n",
    "# on the left is the input image and on the right is predicted shape and pose\n",
    "\n",
    "camera_pose_np /= np.linalg.norm(camera_pose_np)\n",
    "ypr = quaternion2euler(np.squeeze(camera_pose_np))\n",
    "yaw = np.degrees(ypr[0])\n",
    "pitch = np.degrees(ypr[1])\n",
    "roll = np.degrees(ypr[2])\n",
    "\n",
    "render_cfg = {\n",
    "    \"vis_azimuth\": yaw,\n",
    "    \"vis_elevation\": pitch,\n",
    "    \"vis_dist\": 2.0,\n",
    "    \"render_image_size\": 512,\n",
    "    \"render_cycles_samples\": 100\n",
    "}\n",
    "\n",
    "image = render_point_cloud(points_np, render_cfg)\n",
    "f, axarr = plt.subplots(1, 2, figsize=(12, 12))\n",
    "f.set_figheight(512)\n",
    "axarr[0].imshow(input_image_np)\n",
    "axarr[0].axis('off')\n",
    "axarr[1].imshow(image)\n",
    "axarr[1].axis('off')"
   ]
  }
 ],
 "metadata": {
  "kernelspec": {
   "display_name": "Python 3",
   "language": "python",
   "name": "python3"
  },
  "language_info": {
   "codemirror_mode": {
    "name": "ipython",
    "version": 3
   },
   "file_extension": ".py",
   "mimetype": "text/x-python",
   "name": "python",
   "nbconvert_exporter": "python",
   "pygments_lexer": "ipython3",
   "version": "3.7.3"
  }
 },
 "nbformat": 4,
 "nbformat_minor": 2
}
