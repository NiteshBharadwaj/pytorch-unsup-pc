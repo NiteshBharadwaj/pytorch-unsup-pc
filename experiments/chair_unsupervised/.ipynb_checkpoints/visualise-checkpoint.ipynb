{
 "cells": [
  {
   "cell_type": "code",
   "execution_count": 1,
   "metadata": {},
   "outputs": [
    {
     "name": "stdout",
     "output_type": "stream",
     "text": [
      "config.yaml\n",
      "align_to_canonical = False\n",
      "batch_size = 8\n",
      "bicubic_gt_downsampling = False\n",
      "camera_distance = 2.0\n",
      "checkpoint_dir = .\n",
      "clip_gradient_norm = 0.0\n",
      "compute_validation_loss = True\n",
      "config = \n",
      "decoder_conv_init_stdev = 0.02\n",
      "decoder_name = pc_decoder\n",
      "drc_logsum = True\n",
      "drc_logsum_clip_val = 1e-05\n",
      "drc_rgb_weight = 0.0\n",
      "drc_tf_cumulative = True\n",
      "drc_weight = 0.0\n",
      "encoder_name = img_encoder\n",
      "eval_split = val\n",
      "eval_unsupervised_shape = True\n",
      "f_dim = 16\n",
      "fc_dim = 1024\n",
      "focal_length = 1.875\n",
      "focal_length_mean = 2.0\n",
      "focal_length_range = 1.0\n",
      "focal_range = 0.7\n",
      "gpu = 0\n",
      "gpu_allow_growth = False\n",
      "gt_pc_dir = ../../data/gt/downsampled\n",
      "image_size = 128\n",
      "inp_dir = ../../data/tf_records\n",
      "input_shape = [128, 128, 3]\n",
      "learn_focal_length = False\n",
      "learning_rate = 0.0001\n",
      "learning_rate_2 = 1e-05\n",
      "learning_rate_step = 1.0\n",
      "max_dataset_depth = 10.0\n",
      "max_depth = 10.0\n",
      "max_number_of_steps = 600000\n",
      "models_list = \n",
      "num_dataset_samples = -1\n",
      "num_views = 5\n",
      "num_views_to_use = -1\n",
      "pc_decoder_init_stddev = 0.025\n",
      "pc_eval_chamfer_num_parts = 10\n",
      "pc_fast = True\n",
      "pc_gauss_filter_gt = False\n",
      "pc_gauss_filter_gt_rgb = False\n",
      "pc_gauss_filter_gt_switch_off = False\n",
      "pc_gauss_kernel_size = 21\n",
      "pc_learn_occupancy_scaling = True\n",
      "pc_normalise_gauss = False\n",
      "pc_normalise_gauss_analytical = True\n",
      "pc_num_points = 8000\n",
      "pc_occupancy_scaling_maximum = 1.0\n",
      "pc_point_dropout = 0.07\n",
      "pc_point_dropout_end_step = 1.0\n",
      "pc_point_dropout_exponential_schedule = False\n",
      "pc_point_dropout_scheduled = True\n",
      "pc_point_dropout_start_step = 0.0\n",
      "pc_relative_sigma = 3.0\n",
      "pc_relative_sigma_end = 0.2\n",
      "pc_rgb = False\n",
      "pc_rgb_clip_after_conv = False\n",
      "pc_rgb_deep_decoder = False\n",
      "pc_rgb_divide_by_occupancies = False\n",
      "pc_rgb_divide_by_occupancies_epsilon = 0.01\n",
      "pc_rgb_stop_points_gradient = False\n",
      "pc_separable_gauss_filter = True\n",
      "pc_unit_cube = True\n",
      "per_process_gpu_memory_fraction = 1.0\n",
      "pose_accuracy_threshold = 30.0\n",
      "pose_candidates_num_layers = 3\n",
      "pose_predict_num_candidates = 4\n",
      "pose_predictor_student = True\n",
      "pose_predictor_student_loss_weight = 20.0\n",
      "pose_quaternion = True\n",
      "pose_student_align_loss = False\n",
      "posenet_name = pose_net\n",
      "predict_pose = True\n",
      "predict_translation = False\n",
      "predict_translation_init_stddev = 0.05\n",
      "predict_translation_scaling_factor = 0.15\n",
      "predict_translation_tanh = True\n",
      "proj_depth_weight = 0.0\n",
      "proj_rgb_weight = 0.0\n",
      "proj_weight = 1.0\n",
      "ptn_max_projection = False\n",
      "render_colored_subsets = False\n",
      "render_cycles_samples = 500\n",
      "render_image_size = 256\n",
      "save_as_mat = True\n",
      "save_individual_images = False\n",
      "save_intermediate_pcs = False\n",
      "save_intermediate_pcs_interval = 5000\n",
      "save_point_clouds = True\n",
      "save_predictions = True\n",
      "save_predictions_dir = pred\n",
      "save_rotated_points = False\n",
      "save_val_projection = False\n",
      "save_val_projection_dir = \n",
      "save_voxels = False\n",
      "saved_camera = True\n",
      "saved_depth = False\n",
      "shuffle_batch = False\n",
      "shuffle_dataset = False\n",
      "step_size = 4\n",
      "synth_set = 03001627\n",
      "tfrecords_gzip_compressed = True\n",
      "validation_interval = 1000\n",
      "variable_num_views = False\n",
      "vis_all_views = False\n",
      "vis_azimuth = 140.0\n",
      "vis_depth_projs = False\n",
      "vis_dist = 2.0\n",
      "vis_elevation = 15.0\n",
      "vis_size = 128\n",
      "vis_threshold = 0.5\n",
      "vis_voxels = False\n",
      "vox_marching_cubes_dense = False\n",
      "vox_marching_cubes_isosurface = 0.1\n",
      "vox_size = 64\n",
      "vox_size_z = -1\n",
      "vox_threshold = 0.5\n",
      "voxel_grid_size = 2.0\n",
      "weight_decay = 0.001\n",
      "z_dim = 1024\n"
     ]
    },
    {
     "name": "stderr",
     "output_type": "stream",
     "text": [
      "/home/nbgundav/pc/coolnamehere/experiments/chair_unsupervised/../../dpc/util/config.py:46: YAMLLoadWarning: calling yaml.load() without Loader=... is deprecated, as the default Loader is unsafe. Please read https://msg.pyyaml.org/load for full details.\n",
      "  yaml_cfg = edict(yaml.load(f))\n"
     ]
    }
   ],
   "source": [
    "import os\n",
    "import sys\n",
    "\n",
    "script_dir = os.getcwd()\n",
    "root_dir = f\"{script_dir}/../../\"\n",
    "sys.path.append(os.path.join(root_dir, \"dpc\"))\n",
    "\n",
    "import numpy as np\n",
    "import scipy.io\n",
    "import imageio\n",
    "\n",
    "import matplotlib.pyplot as plt\n",
    "%matplotlib inline\n",
    "\n",
    "\n",
    "\n",
    "import open3d\n",
    "from open3d import JVisualizer\n",
    "\n",
    "\n",
    "from util.system import setup_environment\n",
    "from util.euler import quaternion2euler\n",
    "from util.image import preprocess_input_image\n",
    "from render.render_point_cloud import render_point_cloud\n",
    "\n",
    "#!/usr/bin/env python\n",
    "\n",
    "\n",
    "import pdb\n",
    "import time\n",
    "import torch\n",
    "\n",
    "from models import model_pc_to as model_pc\n",
    "from run.ShapeRecords import ShapeRecords\n",
    "from util.app_config import config as app_config\n",
    "from util.system import setup_environment\n",
    "from util.fs import mkdir_if_missing\n",
    "\n",
    "def get_smooth_sigma(cfg, global_step):\n",
    "    num_steps = cfg.max_number_of_steps\n",
    "    diff = (cfg.pc_relative_sigma_end - cfg.pc_relative_sigma)\n",
    "    sigma_rel = cfg.pc_relative_sigma + global_step / num_steps * diff\n",
    "    return sigma_rel\n",
    "\n",
    "def gauss_kernel_1d(l, sig):\n",
    "    \"\"\"\n",
    "    creates gaussian kernel with side length l and a sigma of sig\n",
    "    \"\"\"\n",
    "    xx = torch.arange(-l // 2 + 1., l // 2 + 1)\n",
    "    kernel = torch.exp(-xx**2 / (2. * sig**2))\n",
    "    return kernel / kernel.sum()\n",
    "\n",
    "def separable_kernels(kernel):\n",
    "    size = kernel.shape[0]\n",
    "    k1 = kernel.reshape((1, 1, 1, 1, size))\n",
    "    k2 = kernel.reshape((1, 1, 1, size, 1))\n",
    "    k3 = kernel.reshape((1, 1, size, 1, 1))\n",
    "    return [k1, k2, k3]\n",
    "\n",
    "def smoothing_kernel(cfg, sigma):\n",
    "    fsz = cfg.pc_gauss_kernel_size\n",
    "    kernel_1d = gauss_kernel_1d(fsz, sigma)\n",
    "    if cfg.vox_size_z != -1:\n",
    "        vox_size_z = cfg.vox_size_z\n",
    "        vox_size = cfg.vox_size\n",
    "        ratio = vox_size_z / vox_size\n",
    "        sigma_z = sigma * ratio\n",
    "        fsz_z = int(np.floor(fsz * ratio))\n",
    "        if fsz_z % 2 == 0:\n",
    "            fsz_z += 1\n",
    "        kernel_1d_z = gauss_kernel_1d(fsz_z, sigma_z)\n",
    "        k1 = kernel_1d.reshape((1, 1, 1, 1, fsz))\n",
    "        k2 = kernel_1d.reshape((1, 1, 1, fsz, 1))\n",
    "        k3 = kernel_1d_z.reshape((1, 1, fsz, 1, 1))\n",
    "\n",
    "        kernel = [k1, k2, k3]\n",
    "    else:\n",
    "        if cfg.pc_separable_gauss_filter:\n",
    "            kernel = separable_kernels(kernel_1d)\n",
    "    return kernel"
   ]
  },
  {
   "cell_type": "code",
   "execution_count": 2,
   "metadata": {},
   "outputs": [],
   "source": [
    "import sys\n",
    "sys.path.append('../../')\n",
    "from dpc.util.point_cloud_to import pointcloud_project_fast"
   ]
  },
  {
   "cell_type": "code",
   "execution_count": 3,
   "metadata": {
    "scrolled": true
   },
   "outputs": [
    {
     "name": "stdout",
     "output_type": "stream",
     "text": [
      "Initialized dataset test with size 1355\n",
      "Loading from path: ../../dpc/run/model_run_data/model.ckpt_100000.pth\n",
      "Voxel_time 0.31452570110559464\n"
     ]
    }
   ],
   "source": [
    "global_step=0\n",
    "cfg = app_config\n",
    "\n",
    "setup_environment(cfg)\n",
    "sigma_rel = get_smooth_sigma(cfg, global_step)\n",
    "_sigma_rel = sigma_rel\n",
    "_gauss_sigma = sigma_rel / cfg.vox_size\n",
    "_gauss_kernel = smoothing_kernel(cfg, sigma_rel)\n",
    "\n",
    "\n",
    "device = 'cuda' if torch.cuda.is_available() else 'cpu'\n",
    "train_dir = cfg.checkpoint_dir\n",
    "mkdir_if_missing(train_dir)\n",
    "\n",
    "split_name = \"train\"\n",
    "dataset_folder = cfg.inp_dir\n",
    "\n",
    "dataset = ShapeRecords(dataset_folder, cfg, 'test')\n",
    "dataset_loader = torch.utils.data.DataLoader(dataset,\n",
    "                                             batch_size=8, shuffle=False,\n",
    "                                             num_workers=8,drop_last=True)\n",
    "\n",
    "log_dir = '../../dpc/run/model_run_data/'\n",
    "model = model_pc.ModelPointCloud(cfg)\n",
    "global_step = 100000\n",
    "if global_step>0:            \n",
    "    checkpoint_path = os.path.join(log_dir,'model.ckpt_{}.pth'.format(global_step))\n",
    "    print(\"Loading from path:\",checkpoint_path)\n",
    "    checkpoint = torch.load(checkpoint_path, map_location=torch.device('cpu'))\n",
    "    global_step_val = checkpoint['global_step']\n",
    "    model.load_state_dict(checkpoint['model_state_dict'])\n",
    "else:\n",
    "    global_step_val = global_step\n",
    "\n",
    "model = model.to(device)\n",
    "for i, train_data in enumerate(dataset_loader, 0):\n",
    "    for k in train_data.keys():\n",
    "        try:\n",
    "            train_data[k] = train_data[k].to(device)\n",
    "        except AttributeError:\n",
    "            pass\n",
    "    inputs = model.preprocess(train_data, cfg.step_size)\n",
    "    outputs = model(inputs, global_step_val, is_training=False, run_projection=True)\n",
    "    break"
   ]
  },
  {
   "cell_type": "code",
   "execution_count": 4,
   "metadata": {},
   "outputs": [
    {
     "data": {
      "text/plain": [
       "torch.float32"
      ]
     },
     "execution_count": 4,
     "metadata": {},
     "output_type": "execute_result"
    }
   ],
   "source": [
    "inputs['images'].dtype"
   ]
  },
  {
   "cell_type": "code",
   "execution_count": 5,
   "metadata": {},
   "outputs": [
    {
     "data": {
      "image/png": "[encoded data removed]",
      "text/plain": [
       "<Figure size 432x288 with 2 Axes>"
      ]
     },
     "metadata": {
      "needs_background": "light"
     },
     "output_type": "display_data"
    }
   ],
   "source": [
    "# select an input image from the validation set (splits defined in data/splits)\n",
    "# the dataset has 5 different viewpoints for the same model\n",
    "view_idx_1 = 2\n",
    "view_idx_2 = 3\n",
    "\n",
    "input_image_np_1 = inputs['images'].detach().cpu().numpy()[view_idx_1].transpose(1,2,0)\n",
    "input_image_np_2 = inputs['images'].detach().cpu().numpy()[view_idx_2].transpose(1,2,0)\n",
    "input_image_np_1.shape\n",
    "\n",
    "# show input image\n",
    "plt.figure()\n",
    "plt.subplot(121)\n",
    "plt.imshow(input_image_np_1)\n",
    "plt.subplot(1,2,2)\n",
    "plt.imshow(input_image_np_2)\n",
    "plt.show()"
   ]
  },
  {
   "cell_type": "code",
   "execution_count": 38,
   "metadata": {},
   "outputs": [
    {
     "data": {
      "text/plain": [
       "torch.Size([128, 4])"
      ]
     },
     "execution_count": 38,
     "metadata": {},
     "output_type": "execute_result"
    }
   ],
   "source": [
    "outputs['poses'].shape"
   ]
  },
  {
   "cell_type": "code",
   "execution_count": 36,
   "metadata": {},
   "outputs": [
    {
     "ename": "RuntimeError",
     "evalue": "shape '[4, 1]' is invalid for input of size 1",
     "output_type": "error",
     "traceback": [
      "\u001b[0;31m---------------------------------------------------------------------------\u001b[0m",
      "\u001b[0;31mRuntimeError\u001b[0m                              Traceback (most recent call last)",
      "\u001b[0;32m<ipython-input-36-9531ce32189f>\u001b[0m in \u001b[0;36m<module>\u001b[0;34m\u001b[0m\n\u001b[1;32m      8\u001b[0m                                                \u001b[0mall_rgb\u001b[0m\u001b[0;34m,\u001b[0m \u001b[0m_gauss_kernel\u001b[0m\u001b[0;34m,\u001b[0m\u001b[0;34m\u001b[0m\u001b[0;34m\u001b[0m\u001b[0m\n\u001b[1;32m      9\u001b[0m                                                \u001b[0mscaling_factor\u001b[0m\u001b[0;34m=\u001b[0m\u001b[0moutputs\u001b[0m\u001b[0;34m[\u001b[0m\u001b[0;34m'all_scaling_factors'\u001b[0m\u001b[0;34m]\u001b[0m\u001b[0;34m,\u001b[0m\u001b[0;34m\u001b[0m\u001b[0;34m\u001b[0m\u001b[0m\n\u001b[0;32m---> 10\u001b[0;31m                                                focal_length=outputs['all_focal_length'])\n\u001b[0m\u001b[1;32m     11\u001b[0m \u001b[0mproj\u001b[0m \u001b[0;34m=\u001b[0m \u001b[0mproj_out\u001b[0m\u001b[0;34m[\u001b[0m\u001b[0;34m\"proj\"\u001b[0m\u001b[0;34m]\u001b[0m\u001b[0;34m\u001b[0m\u001b[0;34m\u001b[0m\u001b[0m\n",
      "\u001b[0;32m~/pc/coolnamehere/dpc/util/point_cloud_to.py\u001b[0m in \u001b[0;36mpointcloud_project_fast\u001b[0;34m(cfg, point_cloud, transform, predicted_translation, all_rgb, kernel, scaling_factor, focal_length)\u001b[0m\n\u001b[1;32m    194\u001b[0m     tr_pc = pc_perspective_transform(cfg, point_cloud,\n\u001b[1;32m    195\u001b[0m                                      \u001b[0mtransform\u001b[0m\u001b[0;34m,\u001b[0m \u001b[0mpredicted_translation\u001b[0m\u001b[0;34m,\u001b[0m\u001b[0;34m\u001b[0m\u001b[0;34m\u001b[0m\u001b[0m\n\u001b[0;32m--> 196\u001b[0;31m                                      focal_length)\n\u001b[0m\u001b[1;32m    197\u001b[0m     \u001b[0mvoxels\u001b[0m\u001b[0;34m,\u001b[0m \u001b[0mvoxels_rgb\u001b[0m \u001b[0;34m=\u001b[0m \u001b[0mpointcloud2voxels3d_fast\u001b[0m\u001b[0;34m(\u001b[0m\u001b[0mcfg\u001b[0m\u001b[0;34m,\u001b[0m \u001b[0mtr_pc\u001b[0m\u001b[0;34m,\u001b[0m \u001b[0mall_rgb\u001b[0m\u001b[0;34m)\u001b[0m\u001b[0;34m\u001b[0m\u001b[0;34m\u001b[0m\u001b[0m\n\u001b[1;32m    198\u001b[0m     \u001b[0mvoxels\u001b[0m \u001b[0;34m=\u001b[0m \u001b[0mvoxels\u001b[0m\u001b[0;34m.\u001b[0m\u001b[0munsqueeze\u001b[0m\u001b[0;34m(\u001b[0m\u001b[0;36m1\u001b[0m\u001b[0;34m)\u001b[0m\u001b[0;34m\u001b[0m\u001b[0;34m\u001b[0m\u001b[0m\n",
      "\u001b[0;32m~/pc/coolnamehere/dpc/util/point_cloud_to.py\u001b[0m in \u001b[0;36mpc_perspective_transform\u001b[0;34m(cfg, point_cloud, transform, predicted_translation, focal_length)\u001b[0m\n\u001b[1;32m    134\u001b[0m \u001b[0;34m\u001b[0m\u001b[0m\n\u001b[1;32m    135\u001b[0m     \u001b[0;32mif\u001b[0m \u001b[0mcfg\u001b[0m\u001b[0;34m.\u001b[0m\u001b[0mpose_quaternion\u001b[0m\u001b[0;34m:\u001b[0m\u001b[0;34m\u001b[0m\u001b[0;34m\u001b[0m\u001b[0m\n\u001b[0;32m--> 136\u001b[0;31m         \u001b[0mpc2\u001b[0m \u001b[0;34m=\u001b[0m \u001b[0mquaternion_rotate\u001b[0m\u001b[0;34m(\u001b[0m\u001b[0mpoint_cloud\u001b[0m\u001b[0;34m,\u001b[0m \u001b[0mtransform\u001b[0m\u001b[0;34m)\u001b[0m\u001b[0;34m\u001b[0m\u001b[0;34m\u001b[0m\u001b[0m\n\u001b[0m\u001b[1;32m    137\u001b[0m         \u001b[0;32mif\u001b[0m \u001b[0mpredicted_translation\u001b[0m \u001b[0;32mis\u001b[0m \u001b[0;32mnot\u001b[0m \u001b[0;32mNone\u001b[0m\u001b[0;34m:\u001b[0m\u001b[0;34m\u001b[0m\u001b[0;34m\u001b[0m\u001b[0m\n\u001b[1;32m    138\u001b[0m             \u001b[0mpredicted_translation\u001b[0m \u001b[0;34m=\u001b[0m \u001b[0mpredicted_translation\u001b[0m\u001b[0;34m.\u001b[0m\u001b[0munsqueeze\u001b[0m\u001b[0;34m(\u001b[0m\u001b[0;36m1\u001b[0m\u001b[0;34m)\u001b[0m\u001b[0;34m\u001b[0m\u001b[0;34m\u001b[0m\u001b[0m\n",
      "\u001b[0;32m~/pc/coolnamehere/experiments/chair_unsupervised/../../dpc/util/quaternion.py\u001b[0m in \u001b[0;36mquaternion_rotate\u001b[0;34m(pc, q, inverse)\u001b[0m\n\u001b[1;32m    113\u001b[0m         \u001b[0mq\u001b[0m \u001b[0;34m*\u001b[0m \u001b[0mpc\u001b[0m \u001b[0;34m*\u001b[0m \u001b[0mq\u001b[0m\u001b[0;31m'\u001b[0m\u001b[0;34m\u001b[0m\u001b[0;34m\u001b[0m\u001b[0m\n\u001b[1;32m    114\u001b[0m     \"\"\"\n\u001b[0;32m--> 115\u001b[0;31m     \u001b[0mq_norm\u001b[0m \u001b[0;34m=\u001b[0m \u001b[0mq\u001b[0m\u001b[0;34m.\u001b[0m\u001b[0mnorm\u001b[0m\u001b[0;34m(\u001b[0m\u001b[0mp\u001b[0m\u001b[0;34m=\u001b[0m\u001b[0;36m2\u001b[0m\u001b[0;34m,\u001b[0m\u001b[0mdim\u001b[0m\u001b[0;34m=\u001b[0m\u001b[0;34m-\u001b[0m\u001b[0;36m1\u001b[0m\u001b[0;34m)\u001b[0m\u001b[0;34m.\u001b[0m\u001b[0mreshape\u001b[0m\u001b[0;34m(\u001b[0m\u001b[0mq\u001b[0m\u001b[0;34m.\u001b[0m\u001b[0mshape\u001b[0m\u001b[0;34m[\u001b[0m\u001b[0;36m0\u001b[0m\u001b[0;34m]\u001b[0m\u001b[0;34m,\u001b[0m\u001b[0;36m1\u001b[0m\u001b[0;34m)\u001b[0m\u001b[0;34m\u001b[0m\u001b[0;34m\u001b[0m\u001b[0m\n\u001b[0m\u001b[1;32m    116\u001b[0m     \u001b[0;31m# TODO: Detach or not, the denominatior\u001b[0m\u001b[0;34m\u001b[0m\u001b[0;34m\u001b[0m\u001b[0;34m\u001b[0m\u001b[0m\n\u001b[1;32m    117\u001b[0m     \u001b[0mq\u001b[0m \u001b[0;34m=\u001b[0m \u001b[0mtorch\u001b[0m\u001b[0;34m.\u001b[0m\u001b[0mdiv\u001b[0m\u001b[0;34m(\u001b[0m\u001b[0mq\u001b[0m\u001b[0;34m,\u001b[0m\u001b[0mq_norm\u001b[0m\u001b[0;34m)\u001b[0m\u001b[0;34m\u001b[0m\u001b[0;34m\u001b[0m\u001b[0m\n",
      "\u001b[0;31mRuntimeError\u001b[0m: shape '[4, 1]' is invalid for input of size 1"
     ]
    }
   ],
   "source": [
    "# image 1\n",
    "all_points = outputs['all_points'][0].usqueeze(0).repeat(128,1,1)\n",
    "all_rgb = outputs['all_rgb']\n",
    "camera_pose = outputs['poses'][0]\n",
    "\n",
    "predicted_translation = outputs[\"predicted_translation\"]\n",
    "\n",
    "proj_out = pointcloud_project_fast(cfg, all_points, camera_pose, predicted_translation,\n",
    "                                               all_rgb, _gauss_kernel,\n",
    "                                               scaling_factor=outputs['all_scaling_factors'],\n",
    "                                               focal_length=outputs['all_focal_length'])\n",
    "proj = proj_out[\"proj\"]"
   ]
  },
  {
   "cell_type": "code",
   "execution_count": 31,
   "metadata": {},
   "outputs": [
    {
     "data": {
      "text/plain": [
       "torch.Size([128, 8000, 3])"
      ]
     },
     "execution_count": 31,
     "metadata": {},
     "output_type": "execute_result"
    }
   ],
   "source": [
    "all_points.shape"
   ]
  },
  {
   "cell_type": "code",
   "execution_count": 28,
   "metadata": {},
   "outputs": [],
   "source": [
    "projs = torch.squeeze(proj.reshape(32,4,64,64,1)).detach().cpu().numpy()"
   ]
  },
  {
   "cell_type": "code",
   "execution_count": 29,
   "metadata": {},
   "outputs": [],
   "source": [
    "view_idx_1 = 10\n",
    "view_idx_2 = 15"
   ]
  },
  {
   "cell_type": "code",
   "execution_count": 30,
   "metadata": {},
   "outputs": [
    {
     "ename": "IndexError",
     "evalue": "index 10 is out of bounds for axis 0 with size 4",
     "output_type": "error",
     "traceback": [
      "\u001b[0;31m---------------------------------------------------------------------------\u001b[0m",
      "\u001b[0;31mIndexError\u001b[0m                                Traceback (most recent call last)",
      "\u001b[0;32m<ipython-input-30-eb30d0b8f733>\u001b[0m in \u001b[0;36m<module>\u001b[0;34m\u001b[0m\n\u001b[0;32m----> 1\u001b[0;31m \u001b[0mproj_1\u001b[0m \u001b[0;34m=\u001b[0m \u001b[0mprojs\u001b[0m\u001b[0;34m[\u001b[0m\u001b[0mview_idx_1\u001b[0m\u001b[0;34m]\u001b[0m\u001b[0;34m\u001b[0m\u001b[0;34m\u001b[0m\u001b[0m\n\u001b[0m\u001b[1;32m      2\u001b[0m \u001b[0mproj_2\u001b[0m \u001b[0;34m=\u001b[0m \u001b[0mprojs\u001b[0m\u001b[0;34m[\u001b[0m\u001b[0mview_idx_2\u001b[0m\u001b[0;34m]\u001b[0m\u001b[0;34m\u001b[0m\u001b[0;34m\u001b[0m\u001b[0m\n",
      "\u001b[0;31mIndexError\u001b[0m: index 10 is out of bounds for axis 0 with size 4"
     ]
    }
   ],
   "source": [
    "proj_1 = projs[view_idx_1]\n",
    "proj_2 = projs[view_idx_2]\n"
   ]
  },
  {
   "cell_type": "code",
   "execution_count": 25,
   "metadata": {},
   "outputs": [
    {
     "data": {
      "text/plain": [
       "<matplotlib.image.AxesImage at 0x7f43774c4fd0>"
      ]
     },
     "execution_count": 25,
     "metadata": {},
     "output_type": "execute_result"
    },
    {
     "data": {
      "image/png": "[encoded data removed]",
      "text/plain": [
       "<Figure size 432x288 with 1 Axes>"
      ]
     },
     "metadata": {
      "needs_background": "light"
     },
     "output_type": "display_data"
    }
   ],
   "source": [
    "plt.imshow(torch.squeeze(inputs['masks'])[15].cpu().numpy())"
   ]
  },
  {
   "cell_type": "code",
   "execution_count": 26,
   "metadata": {},
   "outputs": [
    {
     "data": {
      "text/plain": [
       "<matplotlib.image.AxesImage at 0x7f43772bea90>"
      ]
     },
     "execution_count": 26,
     "metadata": {},
     "output_type": "execute_result"
    },
    {
     "data": {
      "image/png": "[encoded data removed]",
      "text/plain": [
       "<Figure size 432x288 with 1 Axes>"
      ]
     },
     "metadata": {
      "needs_background": "light"
     },
     "output_type": "display_data"
    }
   ],
   "source": [
    "plt.imshow(projs[0])"
   ]
  },
  {
   "cell_type": "code",
   "execution_count": 23,
   "metadata": {},
   "outputs": [],
   "source": [
    "pc1 = outputs['points_1'].detach().cpu().numpy()[view_idx_1]\n",
    "pc2 = outputs['points_1'].detach().cpu().numpy()[view_idx_2]\n",
    "\n",
    "# changing, centre, scale and pose \n",
    "scale = 0.5\n",
    "centre = 0.5*(1-scale) # add or subtract centre\n",
    "\n",
    "def project_pc_acc_to_config(pc, centre, scale):\n",
    "    pc_new = pc*scale + centre\n",
    "    return pc_new\n",
    "    \n"
   ]
  },
  {
   "cell_type": "code",
   "execution_count": 9,
   "metadata": {},
   "outputs": [],
   "source": [
    "pc1_proj = project_pc_acc_to_config(pc1, centre, scale)\n",
    "pc2_proj = project_pc_acc_to_config(pc2, -centre, scale)\n"
   ]
  },
  {
   "cell_type": "code",
   "execution_count": 5,
   "metadata": {},
   "outputs": [],
   "source": [
    "\n",
    "camera_pose_np = outputs['poses'].detach().cpu().numpy()[view_idx]"
   ]
  },
  {
   "cell_type": "code",
   "execution_count": 6,
   "metadata": {},
   "outputs": [
    {
     "data": {
      "application/vnd.jupyter.widget-view+json": {
       "model_id": "db9e780d6891438b9957860352da305e",
       "version_major": 2,
       "version_minor": 0
      },
      "text/plain": [
       "JVisualizer with 1 geometries"
      ]
     },
     "metadata": {},
     "output_type": "display_data"
    }
   ],
   "source": [
    "points_np = outputs['points_1'].detach().cpu().numpy()[3]\n",
    "# Interactive visualisation with Open3D\n",
    "pcd = open3d.geometry.PointCloud()\n",
    "pcd.points = open3d.utility.Vector3dVector(np.squeeze(points_np))\n",
    "\n",
    "visualizer = open3d.JVisualizer()\n",
    "visualizer.add_geometry(pcd)\n",
    "visualizer.show()"
   ]
  },
  {
   "cell_type": "code",
   "execution_count": 14,
   "metadata": {},
   "outputs": [
    {
     "data": {
      "text/plain": [
       "0.44912747"
      ]
     },
     "execution_count": 14,
     "metadata": {},
     "output_type": "execute_result"
    }
   ],
   "source": [
    "outputs['points_1'].detach().cpu().numpy().max()"
   ]
  },
  {
   "cell_type": "code",
   "execution_count": null,
   "metadata": {},
   "outputs": [],
   "source": []
  }
 ],
 "metadata": {
  "kernelspec": {
   "display_name": "Python 3",
   "language": "python",
   "name": "python3"
  },
  "language_info": {
   "codemirror_mode": {
    "name": "ipython",
    "version": 3
   },
   "file_extension": ".py",
   "mimetype": "text/x-python",
   "name": "python",
   "nbconvert_exporter": "python",
   "pygments_lexer": "ipython3",
   "version": "3.7.3"
  }
 },
 "nbformat": 4,
 "nbformat_minor": 2
}
