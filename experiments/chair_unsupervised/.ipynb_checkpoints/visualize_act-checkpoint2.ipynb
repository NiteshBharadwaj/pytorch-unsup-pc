{
 "cells": [
  {
   "cell_type": "code",
   "execution_count": 1,
   "metadata": {},
   "outputs": [
    {
     "name": "stdout",
     "output_type": "stream",
     "text": [
      "config.yaml\n",
      "align_to_canonical = False\n",
      "batch_size = 8\n",
      "bicubic_gt_downsampling = False\n",
      "camera_distance = 2.0\n",
      "checkpoint_dir = .\n",
      "clip_gradient_norm = 0.0\n",
      "compute_validation_loss = True\n",
      "config = \n",
      "decoder_conv_init_stdev = 0.02\n",
      "decoder_name = pc_decoder\n",
      "drc_logsum = True\n",
      "drc_logsum_clip_val = 1e-05\n",
      "drc_rgb_weight = 0.0\n",
      "drc_tf_cumulative = True\n",
      "drc_weight = 0.0\n",
      "encoder_name = img_encoder\n",
      "eval_split = val\n",
      "eval_unsupervised_shape = True\n",
      "f_dim = 16\n",
      "fc_dim = 1024\n",
      "focal_length = 1.875\n",
      "focal_length_mean = 2.0\n",
      "focal_length_range = 1.0\n",
      "focal_range = 0.7\n",
      "gpu = 0\n",
      "gpu_allow_growth = False\n",
      "gt_pc_dir = ../../data/gt/downsampled\n",
      "image_size = 128\n",
      "inp_dir = ../../data/tf_records\n",
      "input_shape = [128, 128, 3]\n",
      "learn_focal_length = False\n",
      "learning_rate = 0.0001\n",
      "learning_rate_2 = 1e-05\n",
      "learning_rate_step = 1.0\n",
      "max_dataset_depth = 10.0\n",
      "max_depth = 10.0\n",
      "max_number_of_steps = 600000\n",
      "models_list = \n",
      "num_dataset_samples = -1\n",
      "num_views = 5\n",
      "num_views_to_use = -1\n",
      "pc_decoder_init_stddev = 0.025\n",
      "pc_eval_chamfer_num_parts = 10\n",
      "pc_fast = True\n",
      "pc_gauss_filter_gt = False\n",
      "pc_gauss_filter_gt_rgb = False\n",
      "pc_gauss_filter_gt_switch_off = False\n",
      "pc_gauss_kernel_size = 21\n",
      "pc_learn_occupancy_scaling = True\n",
      "pc_normalise_gauss = False\n",
      "pc_normalise_gauss_analytical = True\n",
      "pc_num_points = 8000\n",
      "pc_occupancy_scaling_maximum = 1.0\n",
      "pc_point_dropout = 0.07\n",
      "pc_point_dropout_end_step = 1.0\n",
      "pc_point_dropout_exponential_schedule = False\n",
      "pc_point_dropout_scheduled = True\n",
      "pc_point_dropout_start_step = 0.0\n",
      "pc_relative_sigma = 3.0\n",
      "pc_relative_sigma_end = 0.2\n",
      "pc_rgb = False\n",
      "pc_rgb_clip_after_conv = False\n",
      "pc_rgb_deep_decoder = False\n",
      "pc_rgb_divide_by_occupancies = False\n",
      "pc_rgb_divide_by_occupancies_epsilon = 0.01\n",
      "pc_rgb_stop_points_gradient = False\n",
      "pc_separable_gauss_filter = True\n",
      "pc_unit_cube = True\n",
      "per_process_gpu_memory_fraction = 1.0\n",
      "pose_accuracy_threshold = 30.0\n",
      "pose_candidates_num_layers = 3\n",
      "pose_predict_num_candidates = 4\n",
      "pose_predictor_student = True\n",
      "pose_predictor_student_loss_weight = 20.0\n",
      "pose_quaternion = True\n",
      "pose_student_align_loss = False\n",
      "posenet_name = pose_net\n",
      "predict_pose = True\n",
      "predict_translation = False\n",
      "predict_translation_init_stddev = 0.05\n",
      "predict_translation_scaling_factor = 0.15\n",
      "predict_translation_tanh = True\n",
      "proj_depth_weight = 0.0\n",
      "proj_rgb_weight = 0.0\n",
      "proj_weight = 1.0\n",
      "ptn_max_projection = False\n",
      "render_colored_subsets = False\n",
      "render_cycles_samples = 500\n",
      "render_image_size = 256\n",
      "save_as_mat = True\n",
      "save_individual_images = False\n",
      "save_intermediate_pcs = False\n",
      "save_intermediate_pcs_interval = 5000\n",
      "save_point_clouds = True\n",
      "save_predictions = True\n",
      "save_predictions_dir = pred\n",
      "save_rotated_points = False\n",
      "save_val_projection = False\n",
      "save_val_projection_dir = \n",
      "save_voxels = False\n",
      "saved_camera = True\n",
      "saved_depth = False\n",
      "shuffle_batch = False\n",
      "shuffle_dataset = False\n",
      "step_size = 4\n",
      "synth_set = 03001627\n",
      "tfrecords_gzip_compressed = True\n",
      "validation_interval = 1000\n",
      "variable_num_views = False\n",
      "vis_all_views = False\n",
      "vis_azimuth = 140.0\n",
      "vis_depth_projs = False\n",
      "vis_dist = 2.0\n",
      "vis_elevation = 15.0\n",
      "vis_size = 128\n",
      "vis_threshold = 0.5\n",
      "vis_voxels = False\n",
      "vox_marching_cubes_dense = False\n",
      "vox_marching_cubes_isosurface = 0.1\n",
      "vox_size = 64\n",
      "vox_size_z = -1\n",
      "vox_threshold = 0.5\n",
      "voxel_grid_size = 2.0\n",
      "weight_decay = 0.001\n",
      "z_dim = 1024\n"
     ]
    },
    {
     "name": "stderr",
     "output_type": "stream",
     "text": [
      "/home/wallace/Project/cse291f/coolnamehere/experiments/chair_unsupervised/../../dpc/util/config.py:46: YAMLLoadWarning: calling yaml.load() without Loader=... is deprecated, as the default Loader is unsafe. Please read https://msg.pyyaml.org/load for full details.\n",
      "  yaml_cfg = edict(yaml.load(f))\n"
     ]
    }
   ],
   "source": [
    "import os\n",
    "import sys\n",
    "\n",
    "script_dir = os.getcwd()\n",
    "root_dir = f\"{script_dir}/../../\"\n",
    "sys.path.append(os.path.join(root_dir, \"dpc\"))\n",
    "\n",
    "import numpy as np\n",
    "import scipy.io\n",
    "import imageio\n",
    "\n",
    "import matplotlib.pyplot as plt\n",
    "%matplotlib inline\n",
    "\n",
    "\n",
    "\n",
    "import open3d\n",
    "from open3d import JVisualizer\n",
    "\n",
    "\n",
    "from util.system import setup_environment\n",
    "from util.euler import quaternion2euler\n",
    "from util.image import preprocess_input_image\n",
    "from render.render_point_cloud import render_point_cloud\n",
    "\n",
    "#!/usr/bin/env python\n",
    "\n",
    "\n",
    "import pdb\n",
    "import time\n",
    "import torch\n",
    "\n",
    "from models import model_pc_to as model_pc\n",
    "from run.ShapeRecords import ShapeRecords\n",
    "from util.app_config import config as app_config\n",
    "from util.system import setup_environment\n",
    "from util.fs import mkdir_if_missing"
   ]
  },
  {
   "cell_type": "code",
   "execution_count": 5,
   "metadata": {},
   "outputs": [
    {
     "name": "stdout",
     "output_type": "stream",
     "text": [
      "Initialized dataset test with size 1355\n",
      "Loading from path: ../../dpc/run/model_run_data/model.ckpt_100000.pth\n",
      "Voxel_time 0.6697719439980574\n"
     ]
    }
   ],
   "source": [
    "cfg = app_config\n",
    "\n",
    "setup_environment(cfg)\n",
    "device = 'cuda' if torch.cuda.is_available() else 'cpu'\n",
    "train_dir = cfg.checkpoint_dir\n",
    "mkdir_if_missing(train_dir)\n",
    "\n",
    "split_name = \"test\"\n",
    "dataset_folder = cfg.inp_dir\n",
    "\n",
    "dataset = ShapeRecords(dataset_folder, cfg,split_name)\n",
    "dataset_loader = torch.utils.data.DataLoader(dataset,\n",
    "                                             batch_size=8, shuffle=False,\n",
    "                                             num_workers=8,drop_last=True)\n",
    "\n",
    "log_dir = '../../dpc/run/model_run_data/'\n",
    "model = model_pc.ModelPointCloud(cfg)\n",
    "global_step = 100000\n",
    "if global_step>0:            \n",
    "    checkpoint_path = os.path.join(log_dir,'model.ckpt_{}.pth'.format(global_step))\n",
    "    print(\"Loading from path:\",checkpoint_path)\n",
    "    checkpoint = torch.load(checkpoint_path, map_location=torch.device('cpu'))\n",
    "    global_step_val = checkpoint['global_step']\n",
    "    model.load_state_dict(checkpoint['model_state_dict'])\n",
    "else:\n",
    "    global_step_val = global_step\n",
    "\n",
    "model = model.to(device)\n",
    "for i, train_data in enumerate(dataset_loader, 0):\n",
    "    for k in train_data.keys():\n",
    "        try:\n",
    "            train_data[k] = train_data[k].to(device)\n",
    "        except AttributeError:\n",
    "            pass\n",
    "    inputs = model.preprocess(train_data, cfg.step_size)\n",
    "    outputs = model(inputs, global_step_val, is_training=False, run_projection=True)\n",
    "    break"
   ]
  },
  {
   "cell_type": "code",
   "execution_count": 4,
   "metadata": {
    "scrolled": true
   },
   "outputs": [
    {
     "name": "stdout",
     "output_type": "stream",
     "text": [
      "Initialized dataset test with size 1355\n",
      "Loading from path: ../../dpc/run/model_run_data/model.ckpt_100000.pth\n",
      "Voxel_time 0.6995384309993824\n"
     ]
    }
   ],
   "source": [
    "global_step=0\n",
    "cfg = app_config\n",
    "\n",
    "setup_environment(cfg)\n",
    "sigma_rel = get_smooth_sigma(cfg, global_step)\n",
    "_sigma_rel = sigma_rel\n",
    "_gauss_sigma = sigma_rel / cfg.vox_size\n",
    "_gauss_kernel = smoothing_kernel(cfg, sigma_rel)\n",
    "\n",
    "\n",
    "device = 'cpu'\n",
    "train_dir = cfg.checkpoint_dir\n",
    "mkdir_if_missing(train_dir)\n",
    "\n",
    "split_name = \"train\"\n",
    "dataset_folder = cfg.inp_dir\n",
    "\n",
    "dataset = ShapeRecords(dataset_folder, cfg, 'test')\n",
    "dataset_loader = torch.utils.data.DataLoader(dataset,\n",
    "                                             batch_size=8, shuffle=False,\n",
    "                                             num_workers=8,drop_last=True)\n",
    "\n",
    "log_dir = '../../dpc/run/model_run_data/'\n",
    "model = model_pc.ModelPointCloud(cfg)\n",
    "global_step = 100000\n",
    "if global_step>0:            \n",
    "    checkpoint_path = os.path.join(log_dir,'model.ckpt_{}.pth'.format(global_step))\n",
    "    print(\"Loading from path:\",checkpoint_path)\n",
    "    checkpoint = torch.load(checkpoint_path, map_location=torch.device('cpu'))\n",
    "    global_step_val = checkpoint['global_step']\n",
    "    model.load_state_dict(checkpoint['model_state_dict'])\n",
    "else:\n",
    "    global_step_val = global_step\n",
    "\n",
    "model = model.to(device)\n",
    "for i, train_data in enumerate(dataset_loader, 0):\n",
    "    for k in train_data.keys():\n",
    "        try:\n",
    "            train_data[k] = train_data[k].to(device)\n",
    "        except AttributeError:\n",
    "            pass\n",
    "    inputs = model.preprocess(train_data, cfg.step_size)\n",
    "    outputs = model(inputs, global_step_val, is_training=False, run_projection=True)\n",
    "    break"
   ]
  },
  {
   "cell_type": "code",
   "execution_count": 8,
   "metadata": {},
   "outputs": [
    {
     "data": {
      "text/plain": [
       "<matplotlib.image.AxesImage at 0x7fe9ca270c88>"
      ]
     },
     "execution_count": 8,
     "metadata": {},
     "output_type": "execute_result"
    },
    {
     "data": {
      "image/png": "[encoded data removed]",
      "text/plain": [
       "<Figure size 432x288 with 1 Axes>"
      ]
     },
     "metadata": {
      "needs_background": "light"
     },
     "output_type": "display_data"
    }
   ],
   "source": [
    "# select an input image from the validation set (splits defined in data/splits)\n",
    "# the dataset has 5 different viewpoints for the same model\n",
    "img_idx = 7\n",
    "\n",
    "input_image_np = inputs['images'].detach().cpu().numpy()[img_idx].transpose(1,2,0)\n",
    "\n",
    "# show input image\n",
    "plt.imshow(input_image_np)"
   ]
  },
  {
   "cell_type": "code",
   "execution_count": 11,
   "metadata": {},
   "outputs": [
    {
     "data": {
      "application/vnd.jupyter.widget-view+json": {
       "model_id": "df9b54344a2f431ea611926a87a8f712",
       "version_major": 2,
       "version_minor": 0
      },
      "text/plain": [
       "JVisualizer with 1 geometries"
      ]
     },
     "metadata": {},
     "output_type": "display_data"
    }
   ],
   "source": [
    "\n",
    "camera_pose_np = outputs['poses'].detach().cpu().numpy()[img_idx]\n",
    "points_np = outputs['all_points'].detach().cpu().numpy().reshape(-1,4,8000,3)[img_idx,3]\n",
    "# Interactive visualisation with Open3D\n",
    "pcd = open3d.geometry.PointCloud()\n",
    "pcd.points = open3d.utility.Vector3dVector(np.squeeze(points_np))\n",
    "\n",
    "visualizer = open3d.JVisualizer()\n",
    "visualizer.add_geometry(pcd)\n",
    "visualizer.show()"
   ]
  },
  {
   "cell_type": "code",
   "execution_count": 7,
   "metadata": {},
   "outputs": [
    {
     "data": {
      "text/plain": [
       "torch.Size([128, 4])"
      ]
     },
     "execution_count": 7,
     "metadata": {},
     "output_type": "execute_result"
    }
   ],
   "source": [
    "outputs['poses'].shape"
   ]
  },
  {
   "cell_type": "code",
   "execution_count": 57,
   "metadata": {},
   "outputs": [
    {
     "name": "stdout",
     "output_type": "stream",
     "text": [
      "Voxel_time 0.6503478649992758\n"
     ]
    }
   ],
   "source": [
    "# image 1\n",
    "all_points = outputs['all_points']#[img_idx_1].unsqueeze(0).repeat(128,1,1)\n",
    "all_rgb = outputs['all_rgb']\n",
    "camera_pose = outputs['poses']#[img_idx_1].unsqueeze(0).repeat(128,1)\n",
    "\n",
    "predicted_translation = outputs[\"predicted_translation\"]\n",
    "\n",
    "proj_out = pointcloud_project_fast(cfg, all_points, camera_pose, predicted_translation,\n",
    "                                               all_rgb, _gauss_kernel,\n",
    "                                               scaling_factor=outputs['all_scaling_factors'],\n",
    "                                               focal_length=outputs['all_focal_length'])\n",
    "proj = proj_out[\"proj\"]"
   ]
  },
  {
   "cell_type": "code",
   "execution_count": 58,
   "metadata": {},
   "outputs": [
    {
     "data": {
      "text/plain": [
       "torch.Size([128, 8000, 3])"
      ]
     },
     "execution_count": 58,
     "metadata": {},
     "output_type": "execute_result"
    }
   ],
   "source": [
    "all_points.shape"
   ]
  },
  {
   "cell_type": "code",
   "execution_count": 59,
   "metadata": {},
   "outputs": [],
   "source": [
    "projs = torch.squeeze(proj.reshape(32,4,64,64,1)).detach().cpu().numpy()"
   ]
  },
  {
   "cell_type": "code",
   "execution_count": 60,
   "metadata": {},
   "outputs": [],
   "source": [
    "proj_1 = projs[img_idx_1]\n",
    "proj_2 = projs[img_idx_2]"
   ]
  },
  {
   "cell_type": "code",
   "execution_count": 61,
   "metadata": {},
   "outputs": [
    {
     "data": {
      "text/plain": [
       "<matplotlib.image.AxesImage at 0x7f2e96faecf8>"
      ]
     },
     "execution_count": 61,
     "metadata": {},
     "output_type": "execute_result"
    },
    {
     "data": {
      "image/png": "[encoded data removed]",
      "text/plain": [
       "<Figure size 432x288 with 1 Axes>"
      ]
     },
     "metadata": {
      "needs_background": "light"
     },
     "output_type": "display_data"
    }
   ],
   "source": [
    "plt.imshow(torch.squeeze(inputs['masks'])[img_idx_1].cpu().numpy())"
   ]
  },
  {
   "cell_type": "code",
   "execution_count": 68,
   "metadata": {},
   "outputs": [
    {
     "data": {
      "text/plain": [
       "<matplotlib.image.AxesImage at 0x7f2e96c55588>"
      ]
     },
     "execution_count": 68,
     "metadata": {},
     "output_type": "execute_result"
    },
    {
     "data": {
      "image/png": "[encoded data removed]",
      "text/plain": [
       "<Figure size 432x288 with 1 Axes>"
      ]
     },
     "metadata": {
      "needs_background": "light"
     },
     "output_type": "display_data"
    }
   ],
   "source": [
    "plt.imshow(proj_1[1])"
   ]
  },
  {
   "cell_type": "code",
   "execution_count": 67,
   "metadata": {
    "scrolled": true
   },
   "outputs": [
    {
     "data": {
      "text/plain": [
       "<matplotlib.image.AxesImage at 0x7f2e971419b0>"
      ]
     },
     "execution_count": 67,
     "metadata": {},
     "output_type": "execute_result"
    },
    {
     "data": {
      "image/png": "[encoded data removed]",
      "text/plain": [
       "<Figure size 432x288 with 1 Axes>"
      ]
     },
     "metadata": {
      "needs_background": "light"
     },
     "output_type": "display_data"
    }
   ],
   "source": [
    "plt.imshow(proj_2[1])"
   ]
  },
  {
   "cell_type": "code",
   "execution_count": 137,
   "metadata": {},
   "outputs": [],
   "source": [
    "mixed_points = outputs['all_points'][img_idx_2*4]\n",
    "def mix_points(points_1, points_2, scale_1, scale_2, center_1, center_2):\n",
    "    points_1 = points_1*scale_1 + center_1\n",
    "    points_2 = points_2*scale_2 + center_2\n",
    "    return torch.cat((points_1,points_2),dim=0)\n",
    "points_1 = outputs['all_points'][img_idx_1*4]\n",
    "points_2 = outputs['all_points'][img_idx_2*4]\n",
    "center_1 = torch.from_numpy(np.array([0,0.15,0.15]).reshape(1,3))\n",
    "center_2 = torch.from_numpy(np.array([0,-0.15,-0.15]).reshape(1,3))\n",
    "scale_1 = 0.5\n",
    "scale_2 = 0.5\n",
    "mixed_points = mix_points(points_1, points_2, scale_1, scale_2, center_1, center_2)"
   ]
  },
  {
   "cell_type": "code",
   "execution_count": 139,
   "metadata": {},
   "outputs": [
    {
     "name": "stdout",
     "output_type": "stream",
     "text": [
      "Voxel_time 0.8630170500000531\n"
     ]
    }
   ],
   "source": [
    "all_points = mixed_points.unsqueeze(0).repeat(128,1,1)\n",
    "all_rgb = outputs['all_rgb']\n",
    "camera_pose = outputs['poses'][img_idx_1*4].unsqueeze(0).repeat(128,1)\n",
    "scaling_factors = outputs['all_scaling_factors'][img_idx_1*4].unsqueeze(0).repeat(128,1)\n",
    "predicted_translation = outputs[\"predicted_translation\"]\n",
    "\n",
    "proj_out = pointcloud_project_fast(cfg, all_points, camera_pose, predicted_translation,\n",
    "                                               all_rgb, _gauss_kernel,\n",
    "                                               scaling_factor=scaling_factors,\n",
    "                                               focal_length=outputs['all_focal_length'])\n",
    "proj = proj_out[\"proj\"]"
   ]
  },
  {
   "cell_type": "code",
   "execution_count": 140,
   "metadata": {},
   "outputs": [],
   "source": [
    "projs = torch.squeeze(proj.reshape(32,4,64,64,1)).detach().cpu().numpy()"
   ]
  },
  {
   "cell_type": "code",
   "execution_count": 141,
   "metadata": {},
   "outputs": [],
   "source": [
    "proj_1 = projs[img_idx_1]\n",
    "proj_2 = projs[img_idx_2]"
   ]
  },
  {
   "cell_type": "code",
   "execution_count": 142,
   "metadata": {},
   "outputs": [
    {
     "name": "stdout",
     "output_type": "stream",
     "text": [
      "torch.Size([128, 1])\n"
     ]
    }
   ],
   "source": [
    "print(outputs['all_scaling_factors'].shape)"
   ]
  },
  {
   "cell_type": "code",
   "execution_count": 143,
   "metadata": {},
   "outputs": [
    {
     "data": {
      "text/plain": [
       "<matplotlib.image.AxesImage at 0x7f2e967104a8>"
      ]
     },
     "execution_count": 143,
     "metadata": {},
     "output_type": "execute_result"
    },
    {
     "data": {
      "image/png": "[encoded data removed]",
      "text/plain": [
       "<Figure size 432x288 with 1 Axes>"
      ]
     },
     "metadata": {
      "needs_background": "light"
     },
     "output_type": "display_data"
    }
   ],
   "source": []
  },
  {
   "cell_type": "code",
   "execution_count": null,
   "metadata": {},
   "outputs": [],
   "source": []
  }
 ],
 "metadata": {
  "kernelspec": {
   "display_name": "Python 3",
   "language": "python",
   "name": "python3"
  },
  "language_info": {
   "codemirror_mode": {
    "name": "ipython",
    "version": 3
   },
   "file_extension": ".py",
   "mimetype": "text/x-python",
   "name": "python",
   "nbconvert_exporter": "python",
   "pygments_lexer": "ipython3",
   "version": "3.7.3"
  }
 },
 "nbformat": 4,
 "nbformat_minor": 2
}
