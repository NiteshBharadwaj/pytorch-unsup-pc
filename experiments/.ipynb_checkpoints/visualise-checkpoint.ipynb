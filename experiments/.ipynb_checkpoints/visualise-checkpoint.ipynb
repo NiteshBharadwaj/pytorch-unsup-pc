{
 "cells": [
  {
   "cell_type": "code",
   "execution_count": 1,
   "metadata": {},
   "outputs": [
    {
     "ename": "ModuleNotFoundError",
     "evalue": "No module named 'open3d'",
     "output_type": "error",
     "traceback": [
      "\u001b[0;31m---------------------------------------------------------------------------\u001b[0m",
      "\u001b[0;31mModuleNotFoundError\u001b[0m                       Traceback (most recent call last)",
      "\u001b[0;32m<ipython-input-1-f1a18279310b>\u001b[0m in \u001b[0;36m<module>\u001b[0;34m\u001b[0m\n\u001b[1;32m     15\u001b[0m \u001b[0;34m\u001b[0m\u001b[0m\n\u001b[1;32m     16\u001b[0m \u001b[0;34m\u001b[0m\u001b[0m\n\u001b[0;32m---> 17\u001b[0;31m \u001b[0;32mimport\u001b[0m \u001b[0mopen3d\u001b[0m\u001b[0;34m\u001b[0m\u001b[0;34m\u001b[0m\u001b[0m\n\u001b[0m\u001b[1;32m     18\u001b[0m \u001b[0;32mfrom\u001b[0m \u001b[0mopen3d\u001b[0m \u001b[0;32mimport\u001b[0m \u001b[0mJVisualizer\u001b[0m\u001b[0;34m\u001b[0m\u001b[0;34m\u001b[0m\u001b[0m\n\u001b[1;32m     19\u001b[0m \u001b[0;34m\u001b[0m\u001b[0m\n",
      "\u001b[0;31mModuleNotFoundError\u001b[0m: No module named 'open3d'"
     ]
    }
   ],
   "source": [
    "import os\n",
    "import sys\n",
    "\n",
    "script_dir = os.getcwd()\n",
    "root_dir = f\"{script_dir}/../\"\n",
    "sys.path.append(os.path.join(root_dir, \"dpc\"))\n",
    "\n",
    "import numpy as np\n",
    "import scipy.io\n",
    "import imageio\n",
    "\n",
    "import matplotlib.pyplot as plt\n",
    "%matplotlib inline\n",
    "\n",
    "\n",
    "\n",
    "import open3d\n",
    "from open3d import JVisualizer\n",
    "\n",
    "from util.config import setup_config\n",
    "from util.system import setup_environment\n",
    "from util.euler import quaternion2euler\n",
    "from util.image import preprocess_input_image\n",
    "from render.render_point_cloud import render_point_cloud\n",
    "\n",
    "#!/usr/bin/env python\n",
    "\n",
    "\n",
    "import pdb\n",
    "import time\n",
    "import torch\n",
    "\n",
    "from models import model_pc_to as model_pc\n",
    "from run.ShapeRecords import ShapeRecords\n",
    "from util.app_config import config as app_config\n",
    "from util.system import setup_environment\n",
    "from util.fs import mkdir_if_missing"
   ]
  },
  {
   "cell_type": "code",
   "execution_count": null,
   "metadata": {
    "scrolled": true
   },
   "outputs": [],
   "source": [
    "# setup the model and load the data\n",
    "\n",
    "exp_dir = \"chair_unsupervised\"\n",
    "\n",
    "config = {\n",
    "    \"gpu\": 0,\n",
    "    \"config\": f\"{exp_dir}/config.yaml\",\n",
    "    \"checkpoint_dir\": exp_dir,\n",
    "    \"batch_size\": 1,\n",
    "    \"align_to_canonical\": True,\n",
    "}\n",
    "\n",
    "cfg = setup_config(config)\n",
    "\n",
    "setup_environment(cfg)\n",
    "\n",
    "cfg.batch_size = 1\n",
    "cfg.step_size = 1\n",
    "\n",
    "g = tf.Graph()\n",
    "with g.as_default():\n",
    "    model = model_pc.ModelPointCloud(cfg)\n",
    "    inputs = tf.placeholder(dtype=tf.float32, shape=[cfg.batch_size, cfg.image_size, cfg.image_size, 3])\n",
    "    outputs = model.model_predict(inputs)\n",
    "    points = outputs[\"points_1\"]\n",
    "    camera_pose = outputs[\"pose_student\"]\n",
    "    \n",
    "    config = tf.ConfigProto(\n",
    "        device_count={'GPU': 1}\n",
    "    )\n",
    "\n",
    "    sess = tf.Session(config=config)\n",
    "    sess.run(tf.global_variables_initializer())\n",
    "    sess.run(tf.local_variables_initializer())\n",
    "\n",
    "    variables_to_restore = tf.contrib.framework.get_variables_to_restore(exclude=[\"meta\"])\n",
    "\n",
    "restorer = tf.train.Saver(variables_to_restore)\n",
    "checkpoint_file = tf.train.latest_checkpoint(exp_dir)\n",
    "print(\"restoring checkpoint\", checkpoint_file)\n",
    "restorer.restore(sess, checkpoint_file)\n",
    "print(\"Done.\")"
   ]
  },
  {
   "cell_type": "code",
   "execution_count": null,
   "metadata": {},
   "outputs": [],
   "source": [
    "# select an input image from the validation set (splits defined in data/splits)\n",
    "# the dataset has 5 different viewpoints for the same model\n",
    "model_name = \"708cd72e15dfaab8a687729fda50af77\"\n",
    "view_idx = 3\n",
    "\n",
    "image_file_name = f\"{root_dir}/data/renders/03001627/{model_name}/render_{view_idx}.png\"\n",
    "input_image_np = imageio.imread(image_file_name)\n",
    "input_image_np, _ = preprocess_input_image(input_image_np)\n",
    "\n",
    "# show input image\n",
    "plt.imshow(input_image_np)"
   ]
  },
  {
   "cell_type": "code",
   "execution_count": null,
   "metadata": {},
   "outputs": [],
   "source": [
    "# predict point cloud\n",
    "(points_np, camera_pose_np) = sess.run([points, camera_pose],\n",
    "                                       feed_dict={inputs: np.expand_dims(input_image_np, axis=0)})\n",
    "\n",
    "# Interactive visualisation with Open3D\n",
    "pcd = open3d.PointCloud()\n",
    "pcd.points = open3d.Vector3dVector(np.squeeze(points_np))\n",
    "\n",
    "visualizer = open3d.JVisualizer()\n",
    "visualizer.add_geometry(pcd)\n",
    "visualizer.show()"
   ]
  },
  {
   "cell_type": "code",
   "execution_count": null,
   "metadata": {},
   "outputs": [],
   "source": [
    "# render the point cloud with the predicted camera pose\n",
    "# on the left is the input image and on the right is predicted shape and pose\n",
    "\n",
    "camera_pose_np /= np.linalg.norm(camera_pose_np)\n",
    "ypr = quaternion2euler(np.squeeze(camera_pose_np))\n",
    "yaw = np.degrees(ypr[0])\n",
    "pitch = np.degrees(ypr[1])\n",
    "roll = np.degrees(ypr[2])\n",
    "\n",
    "render_cfg = {\n",
    "    \"vis_azimuth\": yaw,\n",
    "    \"vis_elevation\": pitch,\n",
    "    \"vis_dist\": 2.0,\n",
    "    \"render_image_size\": 512,\n",
    "    \"render_cycles_samples\": 100\n",
    "}\n",
    "\n",
    "image = render_point_cloud(points_np, render_cfg)\n",
    "f, axarr = plt.subplots(1, 2, figsize=(12, 12))\n",
    "f.set_figheight(512)\n",
    "axarr[0].imshow(input_image_np)\n",
    "axarr[0].axis('off')\n",
    "axarr[1].imshow(image)\n",
    "axarr[1].axis('off')"
   ]
  },
  {
   "cell_type": "code",
   "execution_count": null,
   "metadata": {},
   "outputs": [],
   "source": []
  }
 ],
 "metadata": {
  "kernelspec": {
   "display_name": "Python 3",
   "language": "python",
   "name": "python3"
  },
  "language_info": {
   "codemirror_mode": {
    "name": "ipython",
    "version": 3
   },
   "file_extension": ".py",
   "mimetype": "text/x-python",
   "name": "python",
   "nbconvert_exporter": "python",
   "pygments_lexer": "ipython3",
   "version": "3.7.3"
  }
 },
 "nbformat": 4,
 "nbformat_minor": 2
}
